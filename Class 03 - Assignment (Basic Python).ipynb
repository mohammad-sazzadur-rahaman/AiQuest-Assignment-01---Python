{
 "cells": [
  {
   "cell_type": "markdown",
   "id": "9818ffc8",
   "metadata": {},
   "source": [
    "# Python Practice Problems"
   ]
  },
  {
   "cell_type": "markdown",
   "id": "92c96f2f",
   "metadata": {},
   "source": [
    "### 1. Find the Largest of Two Numbers\n",
    "**Task:** Given two numbers, find the larger one.  \n",
    "**Demo Input:**  5 and 6 <br>\n",
    "**Output:** 6\n"
   ]
  },
  {
   "cell_type": "code",
   "execution_count": 5,
   "id": "15c848cf",
   "metadata": {},
   "outputs": [
    {
     "name": "stdin",
     "output_type": "stream",
     "text": [
      "Enter first number:  5\n",
      "Enter second number:  6\n"
     ]
    },
    {
     "name": "stdout",
     "output_type": "stream",
     "text": [
      "6.0 is large number\n"
     ]
    }
   ],
   "source": [
    "a=float(input(\"Enter first number: \"))\n",
    "b=float(input(\"Enter second number: \"))\n",
    "\n",
    "if a>b:\n",
    "    print(f\"{a} is large number\")\n",
    "else:\n",
    "    print(f\"{b} is large number\")"
   ]
  },
  {
   "cell_type": "markdown",
   "id": "c8c1c683",
   "metadata": {},
   "source": [
    "### 2. Print Numbers from 1 to N\n",
    "**Task**: Given a number `n`, print all numbers from 1 to `n`. <br> \n",
    "**Demo Input**: `5`  <br>\n",
    "**Demo Output**:  1 2 3 4 5\n"
   ]
  },
  {
   "cell_type": "code",
   "execution_count": 10,
   "id": "4f9f4529",
   "metadata": {},
   "outputs": [
    {
     "name": "stdin",
     "output_type": "stream",
     "text": [
      "Enter the number:  5\n"
     ]
    },
    {
     "name": "stdout",
     "output_type": "stream",
     "text": [
      "1 2 3 4 5 "
     ]
    }
   ],
   "source": [
    "a=int(input(\"Enter the number: \"))\n",
    "\n",
    "for i in range(1,a+1):\n",
    "    print(i,end=' ')"
   ]
  },
  {
   "cell_type": "markdown",
   "id": "899df468",
   "metadata": {},
   "source": [
    "### 3. Check if a Number is Positive or Negative\n",
    "**Task**: Determine if the input number is positive, negative, or zero.  \n",
    "**Demo Input**: `-3`  \n",
    "**Demo Output**: `The number is Negative`"
   ]
  },
  {
   "cell_type": "code",
   "execution_count": 11,
   "id": "56ae285e",
   "metadata": {},
   "outputs": [
    {
     "name": "stdin",
     "output_type": "stream",
     "text": [
      "Enter the number:  -3\n"
     ]
    },
    {
     "name": "stdout",
     "output_type": "stream",
     "text": [
      "Negative\n"
     ]
    }
   ],
   "source": [
    "a=int(input(\"Enter the number: \"))\n",
    "\n",
    "if a>0:\n",
    "    print(\"Positive\")\n",
    "elif a<0:\n",
    "    print(\"Negative\")\n",
    "else:\n",
    "    print(\"Zero\")"
   ]
  },
  {
   "cell_type": "markdown",
   "id": "9d865d12",
   "metadata": {},
   "source": [
    "### 4. Calculate the Sum of Digits\n",
    "**Task**: Given a number, find the sum of its digits.  \n",
    "**Demo Input**: `123`  \n",
    "**Demo Output**: `6`  \n",
    "(Explanation: `1+2+3=6`)"
   ]
  },
  {
   "cell_type": "code",
   "execution_count": 12,
   "id": "c28b2c6c",
   "metadata": {},
   "outputs": [
    {
     "name": "stdin",
     "output_type": "stream",
     "text": [
      "Enter the number:  123\n"
     ]
    },
    {
     "name": "stdout",
     "output_type": "stream",
     "text": [
      "6\n"
     ]
    }
   ],
   "source": [
    "a=(input(\"Enter the number: \"))\n",
    "sum=0\n",
    "b=len(a)\n",
    "c=int(a)\n",
    "if c<0:\n",
    "    c=c*-1\n",
    "for i in range(b):\n",
    "    sum=sum+c%10\n",
    "    c=int(c/10)\n",
    "print(sum)"
   ]
  },
  {
   "cell_type": "markdown",
   "id": "a970046f",
   "metadata": {},
   "source": [
    "### 5. Find Factorial of a Number\n",
    "**Task**: Calculate the factorial of a given number.  \n",
    "**Demo Input**: `4`  \n",
    "**Demo Output**: `24`  \n",
    "(Explanation: `4! = 4*3*2*1 = 24`)"
   ]
  },
  {
   "cell_type": "code",
   "execution_count": 13,
   "id": "fd5966d2",
   "metadata": {},
   "outputs": [
    {
     "name": "stdin",
     "output_type": "stream",
     "text": [
      "Enter the number:  4\n"
     ]
    },
    {
     "name": "stdout",
     "output_type": "stream",
     "text": [
      "4!= 24\n"
     ]
    }
   ],
   "source": [
    "a=int(input(\"Enter the number: \"))\n",
    "sum=1\n",
    "for i in range(1,a+1):\n",
    "    sum=sum*i\n",
    "print(f\"{a}!= {sum}\")"
   ]
  },
  {
   "cell_type": "markdown",
   "id": "c8798099",
   "metadata": {},
   "source": [
    "### 6. Count Occurrences of a Digit\n",
    "**Task**: Count how many times a specific digit appears max in a number.  \n",
    "**Demo Input**:  1233321 <br>\n",
    "**Demo Output**: `3`  <br>\n",
    "(Explanation: `3` appears 3 times in `1233321`)"
   ]
  },
  {
   "cell_type": "code",
   "execution_count": 7,
   "id": "5772f0e6",
   "metadata": {},
   "outputs": [
    {
     "name": "stdin",
     "output_type": "stream",
     "text": [
      "Enter the number:  1233321\n"
     ]
    },
    {
     "name": "stdout",
     "output_type": "stream",
     "text": [
      "Number 3 occured 3 times.\n"
     ]
    }
   ],
   "source": [
    "a=input(\"Enter the number: \")\n",
    "b=[0,0,0,0,0,0,0,0,0,0]\n",
    "for i in a:\n",
    "    b[int(i)]=b[int(i)]+1\n",
    "c=max(b)\n",
    "\n",
    "d=b.index(c)\n",
    "\n",
    "print(f\"Number {d} occured {c} times.\")"
   ]
  },
  {
   "cell_type": "markdown",
   "id": "b7f985bc",
   "metadata": {},
   "source": [
    "### 7. Find the GCD of Two Numbers\n",
    "**Task**: Find the greatest common divisor (GCD) of two numbers.  \n",
    "**Demo Input**: 8 and 12 <br>\n",
    "**Demo Output**: `4`"
   ]
  },
  {
   "cell_type": "code",
   "execution_count": 4,
   "id": "a467887d",
   "metadata": {},
   "outputs": [
    {
     "name": "stdin",
     "output_type": "stream",
     "text": [
      "Enter first number:  12\n",
      "Enter second number:  8\n"
     ]
    },
    {
     "name": "stdout",
     "output_type": "stream",
     "text": [
      "4\n"
     ]
    }
   ],
   "source": [
    "a=int(input(\"Enter first number: \"))\n",
    "b=int(input(\"Enter second number: \"))\n",
    "\n",
    "while b!=0:\n",
    "    c=a%b\n",
    "    a=b\n",
    "    b=c\n",
    "print(a)"
   ]
  },
  {
   "cell_type": "markdown",
   "id": "14c6a2fd",
   "metadata": {},
   "source": [
    "### 8. Reverse a String\n",
    "**Task**: Reverse the given string.  \n",
    "**Demo Input**: `\"aiquest\"`  \n",
    "**Demo Output**: `\"tseuqia\"`"
   ]
  },
  {
   "cell_type": "code",
   "execution_count": 14,
   "id": "bd22e158",
   "metadata": {},
   "outputs": [
    {
     "name": "stdin",
     "output_type": "stream",
     "text": [
      "Enter the string:  aiquest\n"
     ]
    },
    {
     "name": "stdout",
     "output_type": "stream",
     "text": [
      "The reverse string is: tseuqia\n"
     ]
    }
   ],
   "source": [
    "a=(input(\"Enter the string: \"))\n",
    "b=a[len(a)::-1]\n",
    "print(f\"The reverse string is: {b}\")"
   ]
  },
  {
   "cell_type": "markdown",
   "id": "88317dfd",
   "metadata": {},
   "source": [
    "### 9. Check Armstrong Number\n",
    "**Task**: Check if a number is an Armstrong number (the sum of its digits raised to the power of the number of digits equals the number).  \n",
    "**Demo Input**: `153`  \n",
    "**Demo Output**: `153 is an Armstrong Number`  \n",
    "(Explanation: \\(1^3 + 5^3 + 3^3 = 153\\))"
   ]
  },
  {
   "cell_type": "code",
   "execution_count": 15,
   "id": "2602ff94",
   "metadata": {},
   "outputs": [
    {
     "name": "stdin",
     "output_type": "stream",
     "text": [
      "Enter the number:  153\n"
     ]
    },
    {
     "name": "stdout",
     "output_type": "stream",
     "text": [
      "153 is an Armstrong Number\n"
     ]
    }
   ],
   "source": [
    "a=(input(\"Enter the number: \"))\n",
    "b=len(a)\n",
    "a=int(a)\n",
    "e=int(a)\n",
    "sum=0\n",
    "for i in range(b):\n",
    "    c=a%10\n",
    "    sum=sum+pow(c,b)\n",
    "    a=int(a/10)\n",
    "\n",
    "if e==sum:\n",
    "    print(f\"{e} is an Armstrong Number\")\n",
    "else:\n",
    "    print(f\"{e} is not an Armstrong Number\")"
   ]
  },
  {
   "cell_type": "markdown",
   "id": "0905a3cc",
   "metadata": {},
   "source": [
    "### 10. Generate a Pattern\n",
    "**Task**: Print a pyramid pattern with `n` rows.  \n",
    "**Demo input:** 4 <br>\n",
    "**Output:** You will see the pyramid pattern with 4 rows"
   ]
  },
  {
   "cell_type": "code",
   "execution_count": 9,
   "id": "83d8b483",
   "metadata": {},
   "outputs": [
    {
     "name": "stdin",
     "output_type": "stream",
     "text": [
      "Enter the number:  4\n"
     ]
    },
    {
     "name": "stdout",
     "output_type": "stream",
     "text": [
      "   *\n",
      "  ***\n",
      " *****\n",
      "*******\n"
     ]
    }
   ],
   "source": [
    "a=int(input(\"Enter the number: \"))\n",
    "\n",
    "for i in range(a):\n",
    "    print((a-i-1)*' ',end='')\n",
    "    for j in range(2*i+1):\n",
    "        print('*',end='')\n",
    "    print()"
   ]
  },
  {
   "cell_type": "markdown",
   "id": "ec723917",
   "metadata": {},
   "source": [
    "# Good Luck!"
   ]
  }
 ],
 "metadata": {
  "kernelspec": {
   "display_name": "Python 3 (ipykernel)",
   "language": "python",
   "name": "python3"
  },
  "language_info": {
   "codemirror_mode": {
    "name": "ipython",
    "version": 3
   },
   "file_extension": ".py",
   "mimetype": "text/x-python",
   "name": "python",
   "nbconvert_exporter": "python",
   "pygments_lexer": "ipython3",
   "version": "3.13.2"
  }
 },
 "nbformat": 4,
 "nbformat_minor": 5
}
